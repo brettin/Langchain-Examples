{
 "cells": [
  {
   "cell_type": "markdown",
   "id": "b121936a-b276-40a5-972a-603237f60b40",
   "metadata": {},
   "source": [
    "## Connecting to a feature store"
   ]
  },
  {
   "cell_type": "markdown",
   "id": "75747c4a-305c-4458-98a3-00f727d70b13",
   "metadata": {},
   "source": [
    "To use Feast, you will have to install it into your environment."
   ]
  },
  {
   "cell_type": "code",
   "execution_count": 1,
   "id": "9eb27319-f3de-4f8c-aec8-c8fe3a2b37eb",
   "metadata": {},
   "outputs": [
    {
     "name": "stdout",
     "output_type": "stream",
     "text": [
      "Feast is an open source project that collects anonymized error reporting and usage statistics. To opt out or learn more see https://docs.feast.dev/reference/usage\n"
     ]
    }
   ],
   "source": [
    "from feast import FeatureStore"
   ]
  }
 ],
 "metadata": {
  "kernelspec": {
   "display_name": "Python 3 (ipykernel)",
   "language": "python",
   "name": "python3"
  },
  "language_info": {
   "codemirror_mode": {
    "name": "ipython",
    "version": 3
   },
   "file_extension": ".py",
   "mimetype": "text/x-python",
   "name": "python",
   "nbconvert_exporter": "python",
   "pygments_lexer": "ipython3",
   "version": "3.11.4"
  }
 },
 "nbformat": 4,
 "nbformat_minor": 5
}
