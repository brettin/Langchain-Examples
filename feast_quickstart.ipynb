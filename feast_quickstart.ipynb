{
 "cells": [
  {
   "cell_type": "code",
   "execution_count": 4,
   "id": "7c955a8a-51ea-4abf-8dac-8aa98b52e627",
   "metadata": {},
   "outputs": [
    {
     "name": "stdout",
     "output_type": "stream",
     "text": [
      "   driver_id     event_timestamp  conv_rate  acc_rate  avg_daily_trips\n",
      "0       1001 2021-04-12 10:59:42   0.072752  0.044344               11\n",
      "1       1002 2021-04-12 08:12:10   0.713465  0.597095              531\n",
      "2       1003 2021-04-12 16:40:26   0.162092  0.309035              959\n",
      "3       1004 2021-04-12 15:01:12   0.658182  0.079150              220\n"
     ]
    }
   ],
   "source": [
    "from feast import FeatureStore\n",
    "import pandas as pd\n",
    "from datetime import datetime\n",
    "\n",
    "entity_df = pd.DataFrame.from_dict({\n",
    "    \"driver_id\": [1001, 1002, 1003, 1004],\n",
    "    \"event_timestamp\": [\n",
    "        datetime(2021, 4, 12, 10, 59, 42),\n",
    "        datetime(2021, 4, 12, 8,  12, 10),\n",
    "        datetime(2021, 4, 12, 16, 40, 26),\n",
    "        datetime(2021, 4, 12, 15, 1 , 12)\n",
    "    ],\n",
    "    \"conv_rate\": [\n",
    "        0.072752,\n",
    "        0.713465,\n",
    "        0.162092,\n",
    "        0.658182\n",
    "    ],\n",
    "    \"acc_rate\": [\n",
    "        0.044344,\n",
    "        0.597095,\n",
    "        0.309035,\n",
    "        0.079150\n",
    "    ],\n",
    "    \"avg_daily_trips\": [\n",
    "        11,\n",
    "        531,\n",
    "        959,\n",
    "        220\n",
    "    ]\n",
    "})\n",
    "\n",
    "print(entity_df)"
   ]
  },
  {
   "cell_type": "code",
   "execution_count": 5,
   "id": "54b023f2-72e1-42d6-b614-3b9b140ab0a6",
   "metadata": {},
   "outputs": [],
   "source": [
    "store = FeatureStore(repo_path=\"/rbscratch/brettin/Langchain/tsb_feature_repo/feature_repo\")"
   ]
  },
  {
   "cell_type": "code",
   "execution_count": 6,
   "id": "538229d2-0b5d-424a-8d96-a53e07a3b5a2",
   "metadata": {},
   "outputs": [
    {
     "ename": "FeatureViewNotFoundException",
     "evalue": "Feature view driver_hourly_stats does not exist",
     "output_type": "error",
     "traceback": [
      "\u001b[0;31m---------------------------------------------------------------------------\u001b[0m",
      "\u001b[0;31mFeatureViewNotFoundException\u001b[0m              Traceback (most recent call last)",
      "Cell \u001b[0;32mIn[6], line 1\u001b[0m\n\u001b[0;32m----> 1\u001b[0m training_df \u001b[38;5;241m=\u001b[39m \u001b[43mstore\u001b[49m\u001b[38;5;241;43m.\u001b[39;49m\u001b[43mget_historical_features\u001b[49m\u001b[43m(\u001b[49m\n\u001b[1;32m      2\u001b[0m \u001b[43m    \u001b[49m\u001b[43mentity_df\u001b[49m\u001b[38;5;241;43m=\u001b[39;49m\u001b[43mentity_df\u001b[49m\u001b[43m,\u001b[49m\n\u001b[1;32m      3\u001b[0m \u001b[43m    \u001b[49m\u001b[43mfeatures\u001b[49m\u001b[43m \u001b[49m\u001b[38;5;241;43m=\u001b[39;49m\u001b[43m \u001b[49m\u001b[43m[\u001b[49m\n\u001b[1;32m      4\u001b[0m \u001b[43m        \u001b[49m\u001b[38;5;124;43m'\u001b[39;49m\u001b[38;5;124;43mdriver_hourly_stats:conv_rate\u001b[39;49m\u001b[38;5;124;43m'\u001b[39;49m\u001b[43m,\u001b[49m\n\u001b[1;32m      5\u001b[0m \u001b[43m        \u001b[49m\u001b[38;5;124;43m'\u001b[39;49m\u001b[38;5;124;43mdriver_hourly_stats:acc_rate\u001b[39;49m\u001b[38;5;124;43m'\u001b[39;49m\u001b[43m,\u001b[49m\n\u001b[1;32m      6\u001b[0m \u001b[43m        \u001b[49m\u001b[38;5;124;43m'\u001b[39;49m\u001b[38;5;124;43mdriver_hourly_stats:avg_daily_trips\u001b[39;49m\u001b[38;5;124;43m'\u001b[39;49m\n\u001b[1;32m      7\u001b[0m \u001b[43m    \u001b[49m\u001b[43m]\u001b[49m\u001b[43m,\u001b[49m\n\u001b[1;32m      8\u001b[0m \u001b[43m)\u001b[49m\u001b[38;5;241m.\u001b[39mto_df()\n\u001b[1;32m     10\u001b[0m \u001b[38;5;28mprint\u001b[39m(training_df\u001b[38;5;241m.\u001b[39mhead())\n\u001b[1;32m     12\u001b[0m \u001b[38;5;66;03m# Train model\u001b[39;00m\n\u001b[1;32m     13\u001b[0m \u001b[38;5;66;03m# model = ml.fit(training_df)\u001b[39;00m\n",
      "File \u001b[0;32m/rbscratch/brettin/conda_envs/langchain/lib/python3.11/site-packages/feast/usage.py:299\u001b[0m, in \u001b[0;36mlog_exceptions_and_usage.<locals>.decorator.<locals>.wrapper\u001b[0;34m(*args, **kwargs)\u001b[0m\n\u001b[1;32m    296\u001b[0m     ctx\u001b[38;5;241m.\u001b[39mtraceback \u001b[38;5;241m=\u001b[39m _trace_to_log(traceback)\n\u001b[1;32m    298\u001b[0m     \u001b[38;5;28;01mif\u001b[39;00m traceback:\n\u001b[0;32m--> 299\u001b[0m         \u001b[38;5;28;01mraise\u001b[39;00m exc\u001b[38;5;241m.\u001b[39mwith_traceback(traceback)\n\u001b[1;32m    301\u001b[0m     \u001b[38;5;28;01mraise\u001b[39;00m exc\n\u001b[1;32m    302\u001b[0m \u001b[38;5;28;01mfinally\u001b[39;00m:\n",
      "File \u001b[0;32m/rbscratch/brettin/conda_envs/langchain/lib/python3.11/site-packages/feast/usage.py:288\u001b[0m, in \u001b[0;36mlog_exceptions_and_usage.<locals>.decorator.<locals>.wrapper\u001b[0;34m(*args, **kwargs)\u001b[0m\n\u001b[1;32m    285\u001b[0m ctx\u001b[38;5;241m.\u001b[39mattributes\u001b[38;5;241m.\u001b[39mupdate(attrs)\n\u001b[1;32m    287\u001b[0m \u001b[38;5;28;01mtry\u001b[39;00m:\n\u001b[0;32m--> 288\u001b[0m     \u001b[38;5;28;01mreturn\u001b[39;00m \u001b[43mfunc\u001b[49m\u001b[43m(\u001b[49m\u001b[38;5;241;43m*\u001b[39;49m\u001b[43margs\u001b[49m\u001b[43m,\u001b[49m\u001b[43m \u001b[49m\u001b[38;5;241;43m*\u001b[39;49m\u001b[38;5;241;43m*\u001b[39;49m\u001b[43mkwargs\u001b[49m\u001b[43m)\u001b[49m\n\u001b[1;32m    289\u001b[0m \u001b[38;5;28;01mexcept\u001b[39;00m \u001b[38;5;167;01mException\u001b[39;00m:\n\u001b[1;32m    290\u001b[0m     \u001b[38;5;28;01mif\u001b[39;00m ctx\u001b[38;5;241m.\u001b[39mexception:\n\u001b[1;32m    291\u001b[0m         \u001b[38;5;66;03m# exception was already recorded\u001b[39;00m\n",
      "File \u001b[0;32m/rbscratch/brettin/conda_envs/langchain/lib/python3.11/site-packages/feast/feature_store.py:1095\u001b[0m, in \u001b[0;36mFeatureStore.get_historical_features\u001b[0;34m(self, entity_df, features, full_feature_names)\u001b[0m\n\u001b[1;32m   1086\u001b[0m     warnings\u001b[38;5;241m.\u001b[39mwarn(\n\u001b[1;32m   1087\u001b[0m         \u001b[38;5;124m\"\u001b[39m\u001b[38;5;124mRequest feature view is deprecated. \u001b[39m\u001b[38;5;124m\"\u001b[39m\n\u001b[1;32m   1088\u001b[0m         \u001b[38;5;124m\"\u001b[39m\u001b[38;5;124mPlease use request data source instead\u001b[39m\u001b[38;5;124m\"\u001b[39m,\n\u001b[1;32m   1089\u001b[0m         \u001b[38;5;167;01mDeprecationWarning\u001b[39;00m,\n\u001b[1;32m   1090\u001b[0m     )\n\u001b[1;32m   1092\u001b[0m \u001b[38;5;66;03m# TODO(achal): _group_feature_refs returns the on demand feature views, but it's not passed into the provider.\u001b[39;00m\n\u001b[1;32m   1093\u001b[0m \u001b[38;5;66;03m# This is a weird interface quirk - we should revisit the `get_historical_features` to\u001b[39;00m\n\u001b[1;32m   1094\u001b[0m \u001b[38;5;66;03m# pass in the on demand feature views as well.\u001b[39;00m\n\u001b[0;32m-> 1095\u001b[0m fvs, odfvs, request_fvs, request_fv_refs \u001b[38;5;241m=\u001b[39m \u001b[43m_group_feature_refs\u001b[49m\u001b[43m(\u001b[49m\n\u001b[1;32m   1096\u001b[0m \u001b[43m    \u001b[49m\u001b[43m_feature_refs\u001b[49m\u001b[43m,\u001b[49m\n\u001b[1;32m   1097\u001b[0m \u001b[43m    \u001b[49m\u001b[43mall_feature_views\u001b[49m\u001b[43m,\u001b[49m\n\u001b[1;32m   1098\u001b[0m \u001b[43m    \u001b[49m\u001b[43mall_request_feature_views\u001b[49m\u001b[43m,\u001b[49m\n\u001b[1;32m   1099\u001b[0m \u001b[43m    \u001b[49m\u001b[43mall_on_demand_feature_views\u001b[49m\u001b[43m,\u001b[49m\n\u001b[1;32m   1100\u001b[0m \u001b[43m\u001b[49m\u001b[43m)\u001b[49m\n\u001b[1;32m   1101\u001b[0m feature_views \u001b[38;5;241m=\u001b[39m \u001b[38;5;28mlist\u001b[39m(view \u001b[38;5;28;01mfor\u001b[39;00m view, _ \u001b[38;5;129;01min\u001b[39;00m fvs)\n\u001b[1;32m   1102\u001b[0m on_demand_feature_views \u001b[38;5;241m=\u001b[39m \u001b[38;5;28mlist\u001b[39m(view \u001b[38;5;28;01mfor\u001b[39;00m view, _ \u001b[38;5;129;01min\u001b[39;00m odfvs)\n",
      "File \u001b[0;32m/rbscratch/brettin/conda_envs/langchain/lib/python3.11/site-packages/feast/feature_store.py:2494\u001b[0m, in \u001b[0;36m_group_feature_refs\u001b[0;34m(features, all_feature_views, all_request_feature_views, all_on_demand_feature_views)\u001b[0m\n\u001b[1;32m   2492\u001b[0m         request_view_refs\u001b[38;5;241m.\u001b[39madd(ref)\n\u001b[1;32m   2493\u001b[0m     \u001b[38;5;28;01melse\u001b[39;00m:\n\u001b[0;32m-> 2494\u001b[0m         \u001b[38;5;28;01mraise\u001b[39;00m FeatureViewNotFoundException(view_name)\n\u001b[1;32m   2496\u001b[0m fvs_result: List[Tuple[FeatureView, List[\u001b[38;5;28mstr\u001b[39m]]] \u001b[38;5;241m=\u001b[39m []\n\u001b[1;32m   2497\u001b[0m odfvs_result: List[Tuple[OnDemandFeatureView, List[\u001b[38;5;28mstr\u001b[39m]]] \u001b[38;5;241m=\u001b[39m []\n",
      "\u001b[0;31mFeatureViewNotFoundException\u001b[0m: Feature view driver_hourly_stats does not exist"
     ]
    }
   ],
   "source": [
    "\n",
    "training_df = store.get_historical_features(\n",
    "    entity_df=entity_df,\n",
    "    features = [\n",
    "        'driver_hourly_stats:conv_rate',\n",
    "        'driver_hourly_stats:acc_rate',\n",
    "        'driver_hourly_stats:avg_daily_trips'\n",
    "    ],\n",
    ").to_df()\n",
    "\n",
    "print(training_df.head())\n",
    "\n",
    "# Train model\n",
    "# model = ml.fit(training_df)"
   ]
  },
  {
   "cell_type": "code",
   "execution_count": null,
   "id": "33a24144-3091-4fd8-89a6-9da43a654731",
   "metadata": {},
   "outputs": [],
   "source": []
  }
 ],
 "metadata": {
  "kernelspec": {
   "display_name": "Python 3 (ipykernel)",
   "language": "python",
   "name": "python3"
  },
  "language_info": {
   "codemirror_mode": {
    "name": "ipython",
    "version": 3
   },
   "file_extension": ".py",
   "mimetype": "text/x-python",
   "name": "python",
   "nbconvert_exporter": "python",
   "pygments_lexer": "ipython3",
   "version": "3.11.4"
  }
 },
 "nbformat": 4,
 "nbformat_minor": 5
}
