{
 "cells": [
  {
   "cell_type": "code",
   "execution_count": 1,
   "id": "52e14fdd-4c18-4378-86b1-e7d5bcd6fff5",
   "metadata": {},
   "outputs": [],
   "source": [
    "from langchain import PromptTemplate"
   ]
  },
  {
   "cell_type": "code",
   "execution_count": 2,
   "id": "76f5ea83-59e5-46c5-a95e-4cdc93b6baca",
   "metadata": {},
   "outputs": [
    {
     "data": {
      "text/plain": [
       "'Tell me a funny joke about chickens.'"
      ]
     },
     "execution_count": 2,
     "metadata": {},
     "output_type": "execute_result"
    }
   ],
   "source": [
    "prompt_template = PromptTemplate.from_template(\n",
    "    \"Tell me a {adjective} joke about {content}.\"\n",
    ")\n",
    "prompt_template.format(adjective=\"funny\", content=\"chickens\")"
   ]
  },
  {
   "cell_type": "code",
   "execution_count": 3,
   "id": "0e02e22f-a6d2-4dcb-922f-805c9e0862e0",
   "metadata": {},
   "outputs": [
    {
     "data": {
      "text/plain": [
       "'Tell me a joke'"
      ]
     },
     "execution_count": 3,
     "metadata": {},
     "output_type": "execute_result"
    }
   ],
   "source": [
    "prompt_template = PromptTemplate.from_template(\n",
    "\"Tell me a joke\"\n",
    ")\n",
    "prompt_template.format()"
   ]
  },
  {
   "cell_type": "code",
   "execution_count": 4,
   "id": "a8e7b399-515f-42f0-a65d-328cbb3da7d5",
   "metadata": {},
   "outputs": [],
   "source": [
    "#invalid_prompt = PromptTemplate(\n",
    "#    input_variables=[\"adjective\"],\n",
    "#    template=\"Tell me a {adjective} joke about {content}.\"\n",
    "#)"
   ]
  },
  {
   "cell_type": "markdown",
   "id": "5c305d27-6cd0-4df7-98aa-2802e53e0242",
   "metadata": {},
   "source": [
    "The prompt to Chat Models is a list of chat messages.\n",
    "\n",
    "Chat messages have an additional parameter called role. Example roles include:\n",
    "* AI Assiatant\n",
    "* human\n",
    "* system"
   ]
  },
  {
   "cell_type": "code",
   "execution_count": 5,
   "id": "2c50b65e-0f39-468a-8b72-7830a8a01901",
   "metadata": {},
   "outputs": [],
   "source": [
    "from langchain.prompts import ChatPromptTemplate\n",
    "\n",
    "# ChatPromptTemplate accepts messages in multiple forms, here is one such form:\n",
    "template = ChatPromptTemplate.from_messages([\n",
    "    (\"system\", \"You are a helpful AI bot. Your name is {name}.\"),\n",
    "    (\"human\", \"Hello, how are you doing?\"),\n",
    "    (\"ai\", \"I'm doing well, thanks!\"),\n",
    "    (\"human\", \"{user_input}\"),\n",
    "])\n",
    "\n",
    "messages = template.format_messages(\n",
    "    name=\"Bob\",\n",
    "    user_input=\"What is your name?\"\n",
    ")\n",
    "\n",
    "# Other options are passing in a MessagePromptTemplate or BaseMessage.\n",
    "\n"
   ]
  },
  {
   "cell_type": "markdown",
   "id": "df958fd2-c9ca-4020-8253-0db06d2b752f",
   "metadata": {},
   "source": [
    "But what is a message you ask."
   ]
  },
  {
   "cell_type": "code",
   "execution_count": 7,
   "id": "9d24a9bb-2b06-4f5a-a3f0-c1114169bd9f",
   "metadata": {},
   "outputs": [
    {
     "name": "stdout",
     "output_type": "stream",
     "text": [
      "[SystemMessage(content='You are a helpful AI bot. Your name is Bob.', additional_kwargs={}), HumanMessage(content='Hello, how are you doing?', additional_kwargs={}, example=False), AIMessage(content=\"I'm doing well, thanks!\", additional_kwargs={}, example=False), HumanMessage(content='What is your name?', additional_kwargs={}, example=False)]\n"
     ]
    }
   ],
   "source": [
    "print(messages)"
   ]
  },
  {
   "cell_type": "code",
   "execution_count": null,
   "id": "576797b0-b98c-4ef4-b33c-9572e2e27ab2",
   "metadata": {},
   "outputs": [],
   "source": []
  }
 ],
 "metadata": {
  "kernelspec": {
   "display_name": "Python 3 (ipykernel)",
   "language": "python",
   "name": "python3"
  },
  "language_info": {
   "codemirror_mode": {
    "name": "ipython",
    "version": 3
   },
   "file_extension": ".py",
   "mimetype": "text/x-python",
   "name": "python",
   "nbconvert_exporter": "python",
   "pygments_lexer": "ipython3",
   "version": "3.11.4"
  }
 },
 "nbformat": 4,
 "nbformat_minor": 5
}
